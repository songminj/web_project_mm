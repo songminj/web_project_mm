{
 "cells": [
  {
   "cell_type": "code",
   "execution_count": 1,
   "metadata": {},
   "outputs": [],
   "source": [
    "import pandas as pd"
   ]
  },
  {
   "cell_type": "code",
   "execution_count": 2,
   "metadata": {},
   "outputs": [],
   "source": [
    "df = pd.read_csv('국토교통부_전국 법정동_20240208.csv', encoding='cp949')"
   ]
  },
  {
   "cell_type": "code",
   "execution_count": 11,
   "metadata": {},
   "outputs": [],
   "source": [
    "# 삭제일자 비어있는거(현재 사용중인 시군구명)만 남긴다. \n",
    "filtered_df = df[df['삭제일자'].isnull()]"
   ]
  },
  {
   "cell_type": "code",
   "execution_count": 10,
   "metadata": {},
   "outputs": [],
   "source": [
    "# '시도명'과 '시군구명' 칼럼만 선택하기\n",
    "selected_columns_df = filtered_df[['시도명', '시군구명']]\n",
    "\n",
    "# 중복된 값 제거\n",
    "unique_df = selected_columns_df.drop_duplicates().reset_index(drop=True)\n",
    "\n",
    "# 필터링된 데이터프레임을 CSV 파일로 저장 (선택 사항)\n",
    "unique_df.to_csv('시도명시군구_240513.csv', index=False)"
   ]
  }
 ],
 "metadata": {
  "kernelspec": {
   "display_name": "base",
   "language": "python",
   "name": "python3"
  },
  "language_info": {
   "codemirror_mode": {
    "name": "ipython",
    "version": 3
   },
   "file_extension": ".py",
   "mimetype": "text/x-python",
   "name": "python",
   "nbconvert_exporter": "python",
   "pygments_lexer": "ipython3",
   "version": "3.11.4"
  }
 },
 "nbformat": 4,
 "nbformat_minor": 2
}
